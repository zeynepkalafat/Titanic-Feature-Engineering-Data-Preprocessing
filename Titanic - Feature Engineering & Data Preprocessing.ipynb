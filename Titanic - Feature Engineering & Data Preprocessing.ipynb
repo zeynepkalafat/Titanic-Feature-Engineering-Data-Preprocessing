{
 "cells": [
  {
   "cell_type": "markdown",
   "id": "a606d07d",
   "metadata": {},
   "source": [
    "\n",
    "# Titanic - Feature Engineering & Data Preprocessing\n"
   ]
  },
  {
   "cell_type": "code",
   "execution_count": 1,
   "id": "9cac6c95",
   "metadata": {},
   "outputs": [],
   "source": [
    "import numpy as np\n",
    "import pandas as pd\n",
    "import seaborn as sns\n",
    "from matplotlib import pyplot as plt\n",
    "# !pip install missingno\n",
    "import missingno as msno\n",
    "from datetime import date\n",
    "from sklearn.metrics import accuracy_score\n",
    "from sklearn.model_selection import train_test_split\n",
    "from sklearn.neighbors import LocalOutlierFactor\n",
    "from sklearn.preprocessing import MinMaxScaler, LabelEncoder, StandardScaler, RobustScaler"
   ]
  },
  {
   "cell_type": "code",
   "execution_count": 2,
   "id": "b5a5910d",
   "metadata": {},
   "outputs": [],
   "source": [
    "pd.set_option('display.max_columns', None)\n",
    "pd.set_option('display.max_rows', None)\n",
    "pd.set_option('display.float_format', lambda x: '%.7f' % x)\n",
    "pd.set_option('display.width', 500)"
   ]
  },
  {
   "cell_type": "code",
   "execution_count": 3,
   "id": "3b973ce2",
   "metadata": {},
   "outputs": [],
   "source": [
    "def load():\n",
    "    data = pd.read_csv(\"datasets/titanic.csv\")\n",
    "    return data"
   ]
  },
  {
   "cell_type": "code",
   "execution_count": 4,
   "id": "42642de5",
   "metadata": {},
   "outputs": [],
   "source": [
    "df = load()"
   ]
  },
  {
   "cell_type": "code",
   "execution_count": 5,
   "id": "6607aad7",
   "metadata": {
    "scrolled": true
   },
   "outputs": [
    {
     "data": {
      "text/html": [
       "<div>\n",
       "<style scoped>\n",
       "    .dataframe tbody tr th:only-of-type {\n",
       "        vertical-align: middle;\n",
       "    }\n",
       "\n",
       "    .dataframe tbody tr th {\n",
       "        vertical-align: top;\n",
       "    }\n",
       "\n",
       "    .dataframe thead th {\n",
       "        text-align: right;\n",
       "    }\n",
       "</style>\n",
       "<table border=\"1\" class=\"dataframe\">\n",
       "  <thead>\n",
       "    <tr style=\"text-align: right;\">\n",
       "      <th></th>\n",
       "      <th>PassengerId</th>\n",
       "      <th>Survived</th>\n",
       "      <th>Pclass</th>\n",
       "      <th>Name</th>\n",
       "      <th>Sex</th>\n",
       "      <th>Age</th>\n",
       "      <th>SibSp</th>\n",
       "      <th>Parch</th>\n",
       "      <th>Ticket</th>\n",
       "      <th>Fare</th>\n",
       "      <th>Cabin</th>\n",
       "      <th>Embarked</th>\n",
       "    </tr>\n",
       "  </thead>\n",
       "  <tbody>\n",
       "    <tr>\n",
       "      <th>0</th>\n",
       "      <td>1</td>\n",
       "      <td>0</td>\n",
       "      <td>3</td>\n",
       "      <td>Braund, Mr. Owen Harris</td>\n",
       "      <td>male</td>\n",
       "      <td>22.0000000</td>\n",
       "      <td>1</td>\n",
       "      <td>0</td>\n",
       "      <td>A/5 21171</td>\n",
       "      <td>7.2500000</td>\n",
       "      <td>NaN</td>\n",
       "      <td>S</td>\n",
       "    </tr>\n",
       "    <tr>\n",
       "      <th>1</th>\n",
       "      <td>2</td>\n",
       "      <td>1</td>\n",
       "      <td>1</td>\n",
       "      <td>Cumings, Mrs. John Bradley (Florence Briggs Th...</td>\n",
       "      <td>female</td>\n",
       "      <td>38.0000000</td>\n",
       "      <td>1</td>\n",
       "      <td>0</td>\n",
       "      <td>PC 17599</td>\n",
       "      <td>71.2833000</td>\n",
       "      <td>C85</td>\n",
       "      <td>C</td>\n",
       "    </tr>\n",
       "    <tr>\n",
       "      <th>2</th>\n",
       "      <td>3</td>\n",
       "      <td>1</td>\n",
       "      <td>3</td>\n",
       "      <td>Heikkinen, Miss. Laina</td>\n",
       "      <td>female</td>\n",
       "      <td>26.0000000</td>\n",
       "      <td>0</td>\n",
       "      <td>0</td>\n",
       "      <td>STON/O2. 3101282</td>\n",
       "      <td>7.9250000</td>\n",
       "      <td>NaN</td>\n",
       "      <td>S</td>\n",
       "    </tr>\n",
       "    <tr>\n",
       "      <th>3</th>\n",
       "      <td>4</td>\n",
       "      <td>1</td>\n",
       "      <td>1</td>\n",
       "      <td>Futrelle, Mrs. Jacques Heath (Lily May Peel)</td>\n",
       "      <td>female</td>\n",
       "      <td>35.0000000</td>\n",
       "      <td>1</td>\n",
       "      <td>0</td>\n",
       "      <td>113803</td>\n",
       "      <td>53.1000000</td>\n",
       "      <td>C123</td>\n",
       "      <td>S</td>\n",
       "    </tr>\n",
       "    <tr>\n",
       "      <th>4</th>\n",
       "      <td>5</td>\n",
       "      <td>0</td>\n",
       "      <td>3</td>\n",
       "      <td>Allen, Mr. William Henry</td>\n",
       "      <td>male</td>\n",
       "      <td>35.0000000</td>\n",
       "      <td>0</td>\n",
       "      <td>0</td>\n",
       "      <td>373450</td>\n",
       "      <td>8.0500000</td>\n",
       "      <td>NaN</td>\n",
       "      <td>S</td>\n",
       "    </tr>\n",
       "  </tbody>\n",
       "</table>\n",
       "</div>"
      ],
      "text/plain": [
       "   PassengerId  Survived  Pclass                                               Name     Sex        Age  SibSp  Parch            Ticket       Fare Cabin Embarked\n",
       "0            1         0       3                            Braund, Mr. Owen Harris    male 22.0000000      1      0         A/5 21171  7.2500000   NaN        S\n",
       "1            2         1       1  Cumings, Mrs. John Bradley (Florence Briggs Th...  female 38.0000000      1      0          PC 17599 71.2833000   C85        C\n",
       "2            3         1       3                             Heikkinen, Miss. Laina  female 26.0000000      0      0  STON/O2. 3101282  7.9250000   NaN        S\n",
       "3            4         1       1       Futrelle, Mrs. Jacques Heath (Lily May Peel)  female 35.0000000      1      0            113803 53.1000000  C123        S\n",
       "4            5         0       3                           Allen, Mr. William Henry    male 35.0000000      0      0            373450  8.0500000   NaN        S"
      ]
     },
     "execution_count": 5,
     "metadata": {},
     "output_type": "execute_result"
    }
   ],
   "source": [
    "df.head()"
   ]
  },
  {
   "cell_type": "markdown",
   "id": "a7b41e07",
   "metadata": {},
   "source": [
    "#### Ana hedef insanların hayatta kalıp kalamayacağını bu veri seti üzerinden modellemektir."
   ]
  },
  {
   "cell_type": "code",
   "execution_count": 6,
   "id": "30dd5993",
   "metadata": {},
   "outputs": [],
   "source": [
    "# değişken isimlerini tek formata getirelim\n",
    "df.columns = [col.upper() for col in df.columns]"
   ]
  },
  {
   "cell_type": "markdown",
   "id": "e492cf18",
   "metadata": {},
   "source": [
    "\n",
    "# 1. Feature Engineering (Değişken Mühendisliği)\n"
   ]
  },
  {
   "cell_type": "code",
   "execution_count": 9,
   "id": "a9b6952a",
   "metadata": {},
   "outputs": [],
   "source": [
    "# Cabin bool\n",
    "df[\"NEW_CABIN_BOOL\"] = df[\"CABIN\"].notnull().astype('int')"
   ]
  },
  {
   "cell_type": "code",
   "execution_count": 10,
   "id": "46022e91",
   "metadata": {},
   "outputs": [],
   "source": [
    "# Name count\n",
    "df[\"NEW_NAME_COUNT\"] = df[\"NAME\"].str.len()"
   ]
  },
  {
   "cell_type": "code",
   "execution_count": 11,
   "id": "f3d09fc0",
   "metadata": {},
   "outputs": [],
   "source": [
    "# name word count\n",
    "df[\"NEW_NAME_WORD_COUNT\"] = df[\"NAME\"].apply(lambda x: len(str(x).split(\" \")))\n"
   ]
  },
  {
   "cell_type": "code",
   "execution_count": 12,
   "id": "bbe8cadd",
   "metadata": {},
   "outputs": [],
   "source": [
    "# name dr\n",
    "df[\"NEW_NAME_DR\"] = df[\"NAME\"].apply(lambda x: len([x for x in x.split() if x.startswith(\"Dr\")]))"
   ]
  },
  {
   "cell_type": "code",
   "execution_count": 13,
   "id": "2aab75ab",
   "metadata": {},
   "outputs": [],
   "source": [
    "# name title\n",
    "df['NEW_TITLE'] = df.NAME.str.extract(' ([A-Za-z]+)\\.', expand=False)"
   ]
  },
  {
   "cell_type": "code",
   "execution_count": 14,
   "id": "14a0327b",
   "metadata": {},
   "outputs": [],
   "source": [
    "# family size\n",
    "df[\"NEW_FAMILY_SIZE\"] = df[\"SIBSP\"] + df[\"PARCH\"] + 1"
   ]
  },
  {
   "cell_type": "code",
   "execution_count": 15,
   "id": "022292cd",
   "metadata": {},
   "outputs": [],
   "source": [
    "# age_pclass\n",
    "df[\"NEW_AGE_PCLASS\"] = df[\"AGE\"] * df[\"PCLASS\"]"
   ]
  },
  {
   "cell_type": "code",
   "execution_count": 16,
   "id": "b1c09253",
   "metadata": {},
   "outputs": [],
   "source": [
    "# is alone\n",
    "df.loc[((df['SIBSP'] + df['PARCH']) > 0), \"NEW_IS_ALONE\"] = \"NO\"\n",
    "df.loc[((df['SIBSP'] + df['PARCH']) == 0), \"NEW_IS_ALONE\"] = \"YES\""
   ]
  },
  {
   "cell_type": "code",
   "execution_count": 17,
   "id": "a52c3706",
   "metadata": {},
   "outputs": [],
   "source": [
    "# age level\n",
    "df.loc[(df['AGE'] < 18), 'NEW_AGE_CAT'] = 'young'\n",
    "df.loc[(df['AGE'] >= 18) & (df['AGE'] < 56), 'NEW_AGE_CAT'] = 'mature'\n",
    "df.loc[(df['AGE'] >= 56), 'NEW_AGE_CAT'] = 'senior'"
   ]
  },
  {
   "cell_type": "code",
   "execution_count": 18,
   "id": "d8edd133",
   "metadata": {},
   "outputs": [],
   "source": [
    "# sex x age\n",
    "df.loc[(df['SEX'] == 'male') & (df['AGE'] <= 21), 'NEW_SEX_CAT'] = 'youngmale'\n",
    "df.loc[(df['SEX'] == 'male') & ((df['AGE'] > 21) & (df['AGE']) <= 50), 'NEW_SEX_CAT'] = 'maturemale'\n",
    "df.loc[(df['SEX'] == 'male') & (df['AGE'] > 50), 'NEW_SEX_CAT'] = 'seniormale'\n",
    "df.loc[(df['SEX'] == 'female') & (df['AGE'] <= 21), 'NEW_SEX_CAT'] = 'youngfemale'\n",
    "df.loc[(df['SEX'] == 'female') & ((df['AGE'] > 21) & (df['AGE']) <= 50), 'NEW_SEX_CAT'] = 'maturefemale'\n",
    "df.loc[(df['SEX'] == 'female') & (df['AGE'] > 50), 'NEW_SEX_CAT'] = 'seniorfemale'"
   ]
  },
  {
   "cell_type": "code",
   "execution_count": 19,
   "id": "a2131519",
   "metadata": {},
   "outputs": [
    {
     "data": {
      "text/plain": [
       "(891, 22)"
      ]
     },
     "execution_count": 19,
     "metadata": {},
     "output_type": "execute_result"
    }
   ],
   "source": [
    "df.shape   # başlangıçta 12 değişken vardı, şimdi 22"
   ]
  },
  {
   "cell_type": "code",
   "execution_count": 20,
   "id": "697ffeb4",
   "metadata": {},
   "outputs": [],
   "source": [
    "# Veri setindeki kategorik, numerik ve kategorik fakat kardinal değişkenleri görelim.\n",
    "def grab_col_names(dataframe, cat_th=10, car_th=20):\n",
    "\n",
    "    # cat_cols, cat_but_car\n",
    "    # kategorik değişkenleri seç.\n",
    "    cat_cols = [col for col in dataframe.columns if dataframe[col].dtypes == \"O\"]\n",
    "    \n",
    "    #nümerik görünümlü ama kategorik olanları seç.\n",
    "    num_but_cat = [col for col in dataframe.columns if dataframe[col].nunique() < cat_th and\n",
    "                   dataframe[col].dtypes != \"O\"]\n",
    "    cat_but_car = [col for col in dataframe.columns if dataframe[col].nunique() > car_th and\n",
    "                   dataframe[col].dtypes == \"O\"]\n",
    "    cat_cols = cat_cols + num_but_cat\n",
    "    \n",
    "    # kategorik görünümlü kardinalleri temizledik\n",
    "    cat_cols = [col for col in cat_cols if col not in cat_but_car]\n",
    "\n",
    "    # num_cols\n",
    "    num_cols = [col for col in dataframe.columns if dataframe[col].dtypes != \"O\"]\n",
    "    # nümerik görününmlü kategorikleri temizledik.\n",
    "    num_cols = [col for col in num_cols if col not in num_but_cat]\n",
    "\n",
    "    print(f\"Observations: {dataframe.shape[0]}\")\n",
    "    print(f\"Variables: {dataframe.shape[1]}\")\n",
    "    print(f'cat_cols: {len(cat_cols)}')\n",
    "    print(f'num_cols: {len(num_cols)}')\n",
    "    print(f'cat_but_car: {len(cat_but_car)}')\n",
    "    print(f'num_but_cat: {len(num_but_cat)}')\n",
    "    return cat_cols, num_cols, cat_but_car"
   ]
  },
  {
   "cell_type": "code",
   "execution_count": 21,
   "id": "a4a89df7",
   "metadata": {},
   "outputs": [
    {
     "name": "stdout",
     "output_type": "stream",
     "text": [
      "Observations: 891\n",
      "Variables: 22\n",
      "cat_cols: 14\n",
      "num_cols: 5\n",
      "cat_but_car: 3\n",
      "num_but_cat: 8\n"
     ]
    }
   ],
   "source": [
    "cat_cols, num_cols, cat_but_car = grab_col_names(df)"
   ]
  },
  {
   "cell_type": "code",
   "execution_count": 22,
   "id": "fa9cadfa",
   "metadata": {},
   "outputs": [],
   "source": [
    "num_cols = [col for col in num_cols if \"PASSENGERID\" not in col]"
   ]
  },
  {
   "cell_type": "markdown",
   "id": "a5505c99",
   "metadata": {},
   "source": [
    "\n",
    "# 2. Outliers (Aykırı Değerler)\n"
   ]
  },
  {
   "cell_type": "markdown",
   "id": "367b3647",
   "metadata": {},
   "source": [
    "### eşik değer hesaplama fonksiyonu"
   ]
  },
  {
   "cell_type": "code",
   "execution_count": 23,
   "id": "b2900331",
   "metadata": {},
   "outputs": [],
   "source": [
    "def outlier_thresholds(dataframe, col_name, q1=0.25, q3=0.75):\n",
    "    quartile1 = dataframe[col_name].quantile(q1)\n",
    "    quartile3 = dataframe[col_name].quantile(q3)\n",
    "    interquantile_range = quartile3 - quartile1\n",
    "    up_limit = quartile3 + 1.5 * interquantile_range\n",
    "    low_limit = quartile1 - 1.5 * interquantile_range\n",
    "    return low_limit, up_limit"
   ]
  },
  {
   "cell_type": "markdown",
   "id": "c8921c1f",
   "metadata": {},
   "source": [
    "### outlier'ları kontrol etmek için "
   ]
  },
  {
   "cell_type": "code",
   "execution_count": 24,
   "id": "77d945df",
   "metadata": {},
   "outputs": [],
   "source": [
    "def check_outlier(dataframe, col_name):\n",
    "    low_limit, up_limit = outlier_thresholds(dataframe, col_name)\n",
    "    if dataframe[(dataframe[col_name] > up_limit) | (dataframe[col_name] < low_limit)].any(axis=None):\n",
    "        return True\n",
    "    else:\n",
    "        return False"
   ]
  },
  {
   "cell_type": "code",
   "execution_count": 25,
   "id": "733db7b9",
   "metadata": {},
   "outputs": [
    {
     "name": "stdout",
     "output_type": "stream",
     "text": [
      "AGE True\n",
      "FARE True\n",
      "NEW_NAME_COUNT True\n",
      "NEW_AGE_PCLASS True\n"
     ]
    }
   ],
   "source": [
    "for col in num_cols:\n",
    "    print(col, check_outlier(df, col))"
   ]
  },
  {
   "cell_type": "markdown",
   "id": "61054153",
   "metadata": {},
   "source": [
    "### eşik değerler ile aykırı değerleri değiştirelim"
   ]
  },
  {
   "cell_type": "code",
   "execution_count": 26,
   "id": "20c0c343",
   "metadata": {},
   "outputs": [],
   "source": [
    "def replace_with_thresholds(dataframe, variable):\n",
    "    low_limit, up_limit = outlier_thresholds(dataframe, variable)\n",
    "    dataframe.loc[(dataframe[variable] < low_limit), variable] = low_limit\n",
    "    dataframe.loc[(dataframe[variable] > up_limit), variable] = up_limit"
   ]
  },
  {
   "cell_type": "code",
   "execution_count": 27,
   "id": "9d08ec18",
   "metadata": {},
   "outputs": [],
   "source": [
    "for col in num_cols:\n",
    "    replace_with_thresholds(df, col)"
   ]
  },
  {
   "cell_type": "markdown",
   "id": "218d369c",
   "metadata": {},
   "source": [
    "### tekrar aykırı değerlere bir bakalım"
   ]
  },
  {
   "cell_type": "code",
   "execution_count": 28,
   "id": "f58f1d0b",
   "metadata": {},
   "outputs": [
    {
     "name": "stdout",
     "output_type": "stream",
     "text": [
      "AGE False\n",
      "FARE False\n",
      "NEW_NAME_COUNT False\n",
      "NEW_AGE_PCLASS False\n"
     ]
    }
   ],
   "source": [
    "for col in num_cols:\n",
    "    print(col, check_outlier(df, col))"
   ]
  },
  {
   "cell_type": "markdown",
   "id": "2c87835a",
   "metadata": {},
   "source": [
    "\n",
    "# 3. Missing Values (Eksik Değerler)\n"
   ]
  },
  {
   "cell_type": "markdown",
   "id": "03f45a9b",
   "metadata": {},
   "source": [
    "### eksik değer olan kolonları görelim"
   ]
  },
  {
   "cell_type": "code",
   "execution_count": 29,
   "id": "9e5a3f5f",
   "metadata": {},
   "outputs": [],
   "source": [
    "def missing_values_table(dataframe, na_name=False):\n",
    "    na_columns = [col for col in dataframe.columns if dataframe[col].isnull().sum() > 0]\n",
    "\n",
    "    n_miss = dataframe[na_columns].isnull().sum().sort_values(ascending=False)\n",
    "    ratio = (dataframe[na_columns].isnull().sum() / dataframe.shape[0] * 100).sort_values(ascending=False)\n",
    "    missing_df = pd.concat([n_miss, np.round(ratio, 2)], axis=1, keys=['n_miss', 'ratio'])\n",
    "    print(missing_df, end=\"\\n\")\n",
    "\n",
    "    if na_name:\n",
    "        return na_columns"
   ]
  },
  {
   "cell_type": "code",
   "execution_count": 30,
   "id": "afa3f169",
   "metadata": {},
   "outputs": [
    {
     "name": "stdout",
     "output_type": "stream",
     "text": [
      "                n_miss      ratio\n",
      "CABIN              687 77.1000000\n",
      "AGE                177 19.8700000\n",
      "NEW_AGE_PCLASS     177 19.8700000\n",
      "NEW_AGE_CAT        177 19.8700000\n",
      "EMBARKED             2  0.2200000\n"
     ]
    }
   ],
   "source": [
    "missing_values_table(df)"
   ]
  },
  {
   "cell_type": "code",
   "execution_count": 31,
   "id": "347ce492",
   "metadata": {},
   "outputs": [],
   "source": [
    "# CABIN değişkeni yerine NEW_CABIN_BOOL oluşturmuştuk.CABIN'i silelim.\n",
    "df.drop(\"CABIN\", inplace=True, axis=1)"
   ]
  },
  {
   "cell_type": "code",
   "execution_count": 32,
   "id": "61621ffe",
   "metadata": {},
   "outputs": [],
   "source": [
    "remove_cols = [\"TICKET\", \"NAME\"]\n",
    "df.drop(remove_cols, inplace=True, axis=1)"
   ]
  },
  {
   "cell_type": "code",
   "execution_count": 33,
   "id": "19283124",
   "metadata": {},
   "outputs": [],
   "source": [
    "# AGE değişkenindeki eksiklikleri medyanı ile dolduralım.\n",
    "df[\"AGE\"] = df[\"AGE\"].fillna(df.groupby(\"NEW_TITLE\")[\"AGE\"].transform(\"median\"))"
   ]
  },
  {
   "cell_type": "code",
   "execution_count": 34,
   "id": "d55d8263",
   "metadata": {},
   "outputs": [],
   "source": [
    "# şimdi AGE değişkeni üzerinden oluşturduklarımızı yeniden oluşturalım.\n",
    "df[\"NEW_AGE_PCLASS\"] = df[\"AGE\"] * df[\"PCLASS\"]"
   ]
  },
  {
   "cell_type": "code",
   "execution_count": 35,
   "id": "da95c924",
   "metadata": {},
   "outputs": [],
   "source": [
    "df.loc[(df['AGE'] < 18), 'NEW_AGE_CAT'] = 'young'\n",
    "df.loc[(df['AGE'] >= 18) & (df['AGE'] < 56), 'NEW_AGE_CAT'] = 'mature'\n",
    "df.loc[(df['AGE'] >= 56), 'NEW_AGE_CAT'] = 'senior'"
   ]
  },
  {
   "cell_type": "code",
   "execution_count": 36,
   "id": "f04623aa",
   "metadata": {},
   "outputs": [],
   "source": [
    "df.loc[(df['SEX'] == 'male') & (df['AGE'] <= 21), 'NEW_SEX_CAT'] = 'youngmale'\n",
    "df.loc[(df['SEX'] == 'male') & ((df['AGE'] > 21) & (df['AGE']) <= 50), 'NEW_SEX_CAT'] = 'maturemale'\n",
    "df.loc[(df['SEX'] == 'male') & (df['AGE'] > 50), 'NEW_SEX_CAT'] = 'seniormale'\n",
    "df.loc[(df['SEX'] == 'female') & (df['AGE'] <= 21), 'NEW_SEX_CAT'] = 'youngfemale'\n",
    "df.loc[(df['SEX'] == 'female') & ((df['AGE'] > 21) & (df['AGE']) <= 50), 'NEW_SEX_CAT'] = 'maturefemale'\n",
    "df.loc[(df['SEX'] == 'female') & (df['AGE'] > 50), 'NEW_SEX_CAT'] = 'seniorfemale'"
   ]
  },
  {
   "cell_type": "code",
   "execution_count": 37,
   "id": "2e22a614",
   "metadata": {},
   "outputs": [],
   "source": [
    "# object ve eşsiz değer sayısı 10dan küçük olan kategorikleri modları ile doldurduk.\n",
    "df = df.apply(lambda x: x.fillna(x.mode()[0]) if (x.dtype == \"O\" and len(x.unique()) <= 10) else x, axis=0)"
   ]
  },
  {
   "cell_type": "markdown",
   "id": "02123d8f",
   "metadata": {},
   "source": [
    "\n",
    "# 4. Label Encoding\n"
   ]
  },
  {
   "cell_type": "code",
   "execution_count": 38,
   "id": "b05260f5",
   "metadata": {},
   "outputs": [],
   "source": [
    "binary_cols = [col for col in df.columns if df[col].dtype not in [int, float]\n",
    "               and df[col].nunique() == 2]"
   ]
  },
  {
   "cell_type": "code",
   "execution_count": 39,
   "id": "746c574b",
   "metadata": {},
   "outputs": [],
   "source": [
    "def label_encoder(dataframe, binary_col):\n",
    "    labelencoder = LabelEncoder()\n",
    "    dataframe[binary_col] = labelencoder.fit_transform(dataframe[binary_col])\n",
    "    return dataframe"
   ]
  },
  {
   "cell_type": "code",
   "execution_count": 40,
   "id": "781f2fe9",
   "metadata": {},
   "outputs": [],
   "source": [
    "for col in binary_cols:\n",
    "    df = label_encoder(df, col)"
   ]
  },
  {
   "cell_type": "markdown",
   "id": "2852cf16",
   "metadata": {},
   "source": [
    "\n",
    "# 5. Rare Encoding\n"
   ]
  },
  {
   "cell_type": "markdown",
   "id": "a8cda161",
   "metadata": {},
   "source": [
    "### Rare kategoriler ile bağımlı değişken arasındaki ilişkinin analiz edileceği fonksiyonumuzu çağıralım"
   ]
  },
  {
   "cell_type": "code",
   "execution_count": 41,
   "id": "88ec20d8",
   "metadata": {},
   "outputs": [],
   "source": [
    "def rare_analyser(dataframe, target, cat_cols):\n",
    "    for col in cat_cols:\n",
    "        print(col, \":\", len(dataframe[col].value_counts()))\n",
    "        print(pd.DataFrame({\"COUNT\": dataframe[col].value_counts(),\n",
    "                            \"RATIO\": dataframe[col].value_counts() / len(dataframe),\n",
    "                            \"TARGET_MEAN\": dataframe.groupby(col)[target].mean()}), end=\"\\n\\n\\n\")\n"
   ]
  },
  {
   "cell_type": "code",
   "execution_count": 42,
   "id": "02539ce3",
   "metadata": {},
   "outputs": [
    {
     "name": "stdout",
     "output_type": "stream",
     "text": [
      "SEX : 2\n",
      "   COUNT     RATIO  TARGET_MEAN\n",
      "0    314 0.3524130    0.7420382\n",
      "1    577 0.6475870    0.1889081\n",
      "\n",
      "\n",
      "EMBARKED : 3\n",
      "   COUNT     RATIO  TARGET_MEAN\n",
      "C    168 0.1885522    0.5535714\n",
      "Q     77 0.0864198    0.3896104\n",
      "S    646 0.7250281    0.3390093\n",
      "\n",
      "\n",
      "NEW_TITLE : 17\n",
      "          COUNT     RATIO  TARGET_MEAN\n",
      "Capt          1 0.0011223    0.0000000\n",
      "Col           2 0.0022447    0.5000000\n",
      "Countess      1 0.0011223    1.0000000\n",
      "Don           1 0.0011223    0.0000000\n",
      "Dr            7 0.0078563    0.4285714\n",
      "Jonkheer      1 0.0011223    0.0000000\n",
      "Lady          1 0.0011223    1.0000000\n",
      "Major         2 0.0022447    0.5000000\n",
      "Master       40 0.0448934    0.5750000\n",
      "Miss        182 0.2042649    0.6978022\n",
      "Mlle          2 0.0022447    1.0000000\n",
      "Mme           1 0.0011223    1.0000000\n",
      "Mr          517 0.5802469    0.1566731\n",
      "Mrs         125 0.1402918    0.7920000\n",
      "Ms            1 0.0011223    1.0000000\n",
      "Rev           6 0.0067340    0.0000000\n",
      "Sir           1 0.0011223    1.0000000\n",
      "\n",
      "\n",
      "NEW_IS_ALONE : 2\n",
      "   COUNT     RATIO  TARGET_MEAN\n",
      "0    354 0.3973064    0.5056497\n",
      "1    537 0.6026936    0.3035382\n",
      "\n",
      "\n",
      "NEW_AGE_CAT : 3\n",
      "        COUNT     RATIO  TARGET_MEAN\n",
      "mature    735 0.8249158    0.3632653\n",
      "senior     39 0.0437710    0.3076923\n",
      "young     117 0.1313131    0.5384615\n",
      "\n",
      "\n",
      "NEW_SEX_CAT : 4\n",
      "              COUNT     RATIO  TARGET_MEAN\n",
      "maturefemale    297 0.3333333    0.7306397\n",
      "maturemale      530 0.5948373    0.1943396\n",
      "seniorfemale     17 0.0190797    0.9411765\n",
      "seniormale       47 0.0527497    0.1276596\n",
      "\n",
      "\n",
      "SURVIVED : 2\n",
      "   COUNT     RATIO  TARGET_MEAN\n",
      "0    549 0.6161616            0\n",
      "1    342 0.3838384            1\n",
      "\n",
      "\n",
      "PCLASS : 3\n",
      "   COUNT     RATIO  TARGET_MEAN\n",
      "1    216 0.2424242    0.6296296\n",
      "2    184 0.2065095    0.4728261\n",
      "3    491 0.5510662    0.2423625\n",
      "\n",
      "\n",
      "SIBSP : 7\n",
      "   COUNT     RATIO  TARGET_MEAN\n",
      "0    608 0.6823793    0.3453947\n",
      "1    209 0.2345679    0.5358852\n",
      "2     28 0.0314254    0.4642857\n",
      "3     16 0.0179574    0.2500000\n",
      "4     18 0.0202020    0.1666667\n",
      "5      5 0.0056117    0.0000000\n",
      "8      7 0.0078563    0.0000000\n",
      "\n",
      "\n",
      "PARCH : 7\n",
      "   COUNT     RATIO  TARGET_MEAN\n",
      "0    678 0.7609428    0.3436578\n",
      "1    118 0.1324355    0.5508475\n",
      "2     80 0.0897868    0.5000000\n",
      "3      5 0.0056117    0.6000000\n",
      "4      4 0.0044893    0.0000000\n",
      "5      5 0.0056117    0.2000000\n",
      "6      1 0.0011223    0.0000000\n",
      "\n",
      "\n",
      "NEW_CABIN_BOOL : 2\n",
      "   COUNT     RATIO  TARGET_MEAN\n",
      "0    687 0.7710438    0.2998544\n",
      "1    204 0.2289562    0.6666667\n",
      "\n",
      "\n",
      "NEW_NAME_WORD_COUNT : 8\n",
      "    COUNT     RATIO  TARGET_MEAN\n",
      "3     305 0.3423120    0.2918033\n",
      "4     388 0.4354658    0.3402062\n",
      "5      96 0.1077441    0.4270833\n",
      "6      53 0.0594837    0.7735849\n",
      "7      38 0.0426487    0.8421053\n",
      "8       9 0.0101010    0.5555556\n",
      "9       1 0.0011223    1.0000000\n",
      "14      1 0.0011223    1.0000000\n",
      "\n",
      "\n",
      "NEW_NAME_DR : 2\n",
      "   COUNT     RATIO  TARGET_MEAN\n",
      "0    881 0.9887767    0.3825199\n",
      "1     10 0.0112233    0.5000000\n",
      "\n",
      "\n",
      "NEW_FAMILY_SIZE : 9\n",
      "    COUNT     RATIO  TARGET_MEAN\n",
      "1     537 0.6026936    0.3035382\n",
      "2     161 0.1806958    0.5527950\n",
      "3     102 0.1144781    0.5784314\n",
      "4      29 0.0325477    0.7241379\n",
      "5      15 0.0168350    0.2000000\n",
      "6      22 0.0246914    0.1363636\n",
      "7      12 0.0134680    0.3333333\n",
      "8       6 0.0067340    0.0000000\n",
      "11      7 0.0078563    0.0000000\n",
      "\n",
      "\n"
     ]
    }
   ],
   "source": [
    "rare_analyser(df, \"SURVIVED\", cat_cols)"
   ]
  },
  {
   "cell_type": "markdown",
   "id": "c8779296",
   "metadata": {},
   "source": [
    "### Rare encoder"
   ]
  },
  {
   "cell_type": "code",
   "execution_count": 43,
   "id": "08256686",
   "metadata": {},
   "outputs": [],
   "source": [
    "def rare_encoder(dataframe, rare_perc):\n",
    "    temp_df = dataframe.copy()\n",
    "\n",
    "    rare_columns = [col for col in temp_df.columns if temp_df[col].dtypes == 'O'\n",
    "                    and (temp_df[col].value_counts() / len(temp_df) < rare_perc).any(axis=None)]\n",
    "\n",
    "    for var in rare_columns:\n",
    "        tmp = temp_df[var].value_counts() / len(temp_df)\n",
    "        rare_labels = tmp[tmp < rare_perc].index\n",
    "        temp_df[var] = np.where(temp_df[var].isin(rare_labels), 'Rare', temp_df[var])\n",
    "\n",
    "    return temp_df"
   ]
  },
  {
   "cell_type": "code",
   "execution_count": 44,
   "id": "aca85ab4",
   "metadata": {},
   "outputs": [],
   "source": [
    "df = rare_encoder(df, 0.01)"
   ]
  },
  {
   "cell_type": "code",
   "execution_count": 45,
   "id": "54fa88da",
   "metadata": {},
   "outputs": [
    {
     "data": {
      "text/plain": [
       "Mr        517\n",
       "Miss      182\n",
       "Mrs       125\n",
       "Master     40\n",
       "Rare       27\n",
       "Name: NEW_TITLE, dtype: int64"
      ]
     },
     "execution_count": 45,
     "metadata": {},
     "output_type": "execute_result"
    }
   ],
   "source": [
    "df[\"NEW_TITLE\"].value_counts()"
   ]
  },
  {
   "cell_type": "markdown",
   "id": "aad85e87",
   "metadata": {},
   "source": [
    "\n",
    "# 6. One-Hot Encoding\n"
   ]
  },
  {
   "cell_type": "code",
   "execution_count": 46,
   "id": "b4d2c92d",
   "metadata": {},
   "outputs": [],
   "source": [
    "ohe_cols = [col for col in df.columns if 10 >= df[col].nunique() > 2]"
   ]
  },
  {
   "cell_type": "code",
   "execution_count": 47,
   "id": "379ca3d6",
   "metadata": {},
   "outputs": [],
   "source": [
    "def one_hot_encoder(dataframe, categorical_cols, drop_first=True):\n",
    "    dataframe = pd.get_dummies(dataframe, columns=categorical_cols, drop_first=drop_first)\n",
    "    return dataframe"
   ]
  },
  {
   "cell_type": "code",
   "execution_count": 48,
   "id": "9eb49e5e",
   "metadata": {},
   "outputs": [],
   "source": [
    "df = one_hot_encoder(df, ohe_cols)"
   ]
  },
  {
   "cell_type": "code",
   "execution_count": 49,
   "id": "2f314711",
   "metadata": {},
   "outputs": [
    {
     "data": {
      "text/html": [
       "<div>\n",
       "<style scoped>\n",
       "    .dataframe tbody tr th:only-of-type {\n",
       "        vertical-align: middle;\n",
       "    }\n",
       "\n",
       "    .dataframe tbody tr th {\n",
       "        vertical-align: top;\n",
       "    }\n",
       "\n",
       "    .dataframe thead th {\n",
       "        text-align: right;\n",
       "    }\n",
       "</style>\n",
       "<table border=\"1\" class=\"dataframe\">\n",
       "  <thead>\n",
       "    <tr style=\"text-align: right;\">\n",
       "      <th></th>\n",
       "      <th>PASSENGERID</th>\n",
       "      <th>SURVIVED</th>\n",
       "      <th>SEX</th>\n",
       "      <th>AGE</th>\n",
       "      <th>FARE</th>\n",
       "      <th>NEW_CABIN_BOOL</th>\n",
       "      <th>NEW_NAME_COUNT</th>\n",
       "      <th>NEW_NAME_DR</th>\n",
       "      <th>NEW_AGE_PCLASS</th>\n",
       "      <th>NEW_IS_ALONE</th>\n",
       "      <th>PCLASS_2</th>\n",
       "      <th>PCLASS_3</th>\n",
       "      <th>SIBSP_1</th>\n",
       "      <th>SIBSP_2</th>\n",
       "      <th>SIBSP_3</th>\n",
       "      <th>SIBSP_4</th>\n",
       "      <th>SIBSP_5</th>\n",
       "      <th>SIBSP_8</th>\n",
       "      <th>PARCH_1</th>\n",
       "      <th>PARCH_2</th>\n",
       "      <th>PARCH_3</th>\n",
       "      <th>PARCH_4</th>\n",
       "      <th>PARCH_5</th>\n",
       "      <th>PARCH_6</th>\n",
       "      <th>EMBARKED_Q</th>\n",
       "      <th>EMBARKED_S</th>\n",
       "      <th>NEW_NAME_WORD_COUNT_4</th>\n",
       "      <th>NEW_NAME_WORD_COUNT_5</th>\n",
       "      <th>NEW_NAME_WORD_COUNT_6</th>\n",
       "      <th>NEW_NAME_WORD_COUNT_7</th>\n",
       "      <th>NEW_NAME_WORD_COUNT_8</th>\n",
       "      <th>NEW_NAME_WORD_COUNT_9</th>\n",
       "      <th>NEW_NAME_WORD_COUNT_14</th>\n",
       "      <th>NEW_TITLE_Miss</th>\n",
       "      <th>NEW_TITLE_Mr</th>\n",
       "      <th>NEW_TITLE_Mrs</th>\n",
       "      <th>NEW_TITLE_Rare</th>\n",
       "      <th>NEW_FAMILY_SIZE_2</th>\n",
       "      <th>NEW_FAMILY_SIZE_3</th>\n",
       "      <th>NEW_FAMILY_SIZE_4</th>\n",
       "      <th>NEW_FAMILY_SIZE_5</th>\n",
       "      <th>NEW_FAMILY_SIZE_6</th>\n",
       "      <th>NEW_FAMILY_SIZE_7</th>\n",
       "      <th>NEW_FAMILY_SIZE_8</th>\n",
       "      <th>NEW_FAMILY_SIZE_11</th>\n",
       "      <th>NEW_AGE_CAT_senior</th>\n",
       "      <th>NEW_AGE_CAT_young</th>\n",
       "      <th>NEW_SEX_CAT_maturemale</th>\n",
       "      <th>NEW_SEX_CAT_seniorfemale</th>\n",
       "      <th>NEW_SEX_CAT_seniormale</th>\n",
       "    </tr>\n",
       "  </thead>\n",
       "  <tbody>\n",
       "    <tr>\n",
       "      <th>0</th>\n",
       "      <td>1</td>\n",
       "      <td>0</td>\n",
       "      <td>1</td>\n",
       "      <td>22.0000000</td>\n",
       "      <td>7.2500000</td>\n",
       "      <td>0</td>\n",
       "      <td>23.0000000</td>\n",
       "      <td>0</td>\n",
       "      <td>66.0000000</td>\n",
       "      <td>0</td>\n",
       "      <td>0</td>\n",
       "      <td>1</td>\n",
       "      <td>1</td>\n",
       "      <td>0</td>\n",
       "      <td>0</td>\n",
       "      <td>0</td>\n",
       "      <td>0</td>\n",
       "      <td>0</td>\n",
       "      <td>0</td>\n",
       "      <td>0</td>\n",
       "      <td>0</td>\n",
       "      <td>0</td>\n",
       "      <td>0</td>\n",
       "      <td>0</td>\n",
       "      <td>0</td>\n",
       "      <td>1</td>\n",
       "      <td>1</td>\n",
       "      <td>0</td>\n",
       "      <td>0</td>\n",
       "      <td>0</td>\n",
       "      <td>0</td>\n",
       "      <td>0</td>\n",
       "      <td>0</td>\n",
       "      <td>0</td>\n",
       "      <td>1</td>\n",
       "      <td>0</td>\n",
       "      <td>0</td>\n",
       "      <td>1</td>\n",
       "      <td>0</td>\n",
       "      <td>0</td>\n",
       "      <td>0</td>\n",
       "      <td>0</td>\n",
       "      <td>0</td>\n",
       "      <td>0</td>\n",
       "      <td>0</td>\n",
       "      <td>0</td>\n",
       "      <td>0</td>\n",
       "      <td>1</td>\n",
       "      <td>0</td>\n",
       "      <td>0</td>\n",
       "    </tr>\n",
       "    <tr>\n",
       "      <th>1</th>\n",
       "      <td>2</td>\n",
       "      <td>1</td>\n",
       "      <td>0</td>\n",
       "      <td>38.0000000</td>\n",
       "      <td>65.6344000</td>\n",
       "      <td>1</td>\n",
       "      <td>45.0000000</td>\n",
       "      <td>0</td>\n",
       "      <td>38.0000000</td>\n",
       "      <td>0</td>\n",
       "      <td>0</td>\n",
       "      <td>0</td>\n",
       "      <td>1</td>\n",
       "      <td>0</td>\n",
       "      <td>0</td>\n",
       "      <td>0</td>\n",
       "      <td>0</td>\n",
       "      <td>0</td>\n",
       "      <td>0</td>\n",
       "      <td>0</td>\n",
       "      <td>0</td>\n",
       "      <td>0</td>\n",
       "      <td>0</td>\n",
       "      <td>0</td>\n",
       "      <td>0</td>\n",
       "      <td>0</td>\n",
       "      <td>0</td>\n",
       "      <td>0</td>\n",
       "      <td>0</td>\n",
       "      <td>1</td>\n",
       "      <td>0</td>\n",
       "      <td>0</td>\n",
       "      <td>0</td>\n",
       "      <td>0</td>\n",
       "      <td>0</td>\n",
       "      <td>1</td>\n",
       "      <td>0</td>\n",
       "      <td>1</td>\n",
       "      <td>0</td>\n",
       "      <td>0</td>\n",
       "      <td>0</td>\n",
       "      <td>0</td>\n",
       "      <td>0</td>\n",
       "      <td>0</td>\n",
       "      <td>0</td>\n",
       "      <td>0</td>\n",
       "      <td>0</td>\n",
       "      <td>0</td>\n",
       "      <td>0</td>\n",
       "      <td>0</td>\n",
       "    </tr>\n",
       "    <tr>\n",
       "      <th>2</th>\n",
       "      <td>3</td>\n",
       "      <td>1</td>\n",
       "      <td>0</td>\n",
       "      <td>26.0000000</td>\n",
       "      <td>7.9250000</td>\n",
       "      <td>0</td>\n",
       "      <td>22.0000000</td>\n",
       "      <td>0</td>\n",
       "      <td>78.0000000</td>\n",
       "      <td>1</td>\n",
       "      <td>0</td>\n",
       "      <td>1</td>\n",
       "      <td>0</td>\n",
       "      <td>0</td>\n",
       "      <td>0</td>\n",
       "      <td>0</td>\n",
       "      <td>0</td>\n",
       "      <td>0</td>\n",
       "      <td>0</td>\n",
       "      <td>0</td>\n",
       "      <td>0</td>\n",
       "      <td>0</td>\n",
       "      <td>0</td>\n",
       "      <td>0</td>\n",
       "      <td>0</td>\n",
       "      <td>1</td>\n",
       "      <td>0</td>\n",
       "      <td>0</td>\n",
       "      <td>0</td>\n",
       "      <td>0</td>\n",
       "      <td>0</td>\n",
       "      <td>0</td>\n",
       "      <td>0</td>\n",
       "      <td>1</td>\n",
       "      <td>0</td>\n",
       "      <td>0</td>\n",
       "      <td>0</td>\n",
       "      <td>0</td>\n",
       "      <td>0</td>\n",
       "      <td>0</td>\n",
       "      <td>0</td>\n",
       "      <td>0</td>\n",
       "      <td>0</td>\n",
       "      <td>0</td>\n",
       "      <td>0</td>\n",
       "      <td>0</td>\n",
       "      <td>0</td>\n",
       "      <td>0</td>\n",
       "      <td>0</td>\n",
       "      <td>0</td>\n",
       "    </tr>\n",
       "    <tr>\n",
       "      <th>3</th>\n",
       "      <td>4</td>\n",
       "      <td>1</td>\n",
       "      <td>0</td>\n",
       "      <td>35.0000000</td>\n",
       "      <td>53.1000000</td>\n",
       "      <td>1</td>\n",
       "      <td>44.0000000</td>\n",
       "      <td>0</td>\n",
       "      <td>35.0000000</td>\n",
       "      <td>0</td>\n",
       "      <td>0</td>\n",
       "      <td>0</td>\n",
       "      <td>1</td>\n",
       "      <td>0</td>\n",
       "      <td>0</td>\n",
       "      <td>0</td>\n",
       "      <td>0</td>\n",
       "      <td>0</td>\n",
       "      <td>0</td>\n",
       "      <td>0</td>\n",
       "      <td>0</td>\n",
       "      <td>0</td>\n",
       "      <td>0</td>\n",
       "      <td>0</td>\n",
       "      <td>0</td>\n",
       "      <td>1</td>\n",
       "      <td>0</td>\n",
       "      <td>0</td>\n",
       "      <td>0</td>\n",
       "      <td>1</td>\n",
       "      <td>0</td>\n",
       "      <td>0</td>\n",
       "      <td>0</td>\n",
       "      <td>0</td>\n",
       "      <td>0</td>\n",
       "      <td>1</td>\n",
       "      <td>0</td>\n",
       "      <td>1</td>\n",
       "      <td>0</td>\n",
       "      <td>0</td>\n",
       "      <td>0</td>\n",
       "      <td>0</td>\n",
       "      <td>0</td>\n",
       "      <td>0</td>\n",
       "      <td>0</td>\n",
       "      <td>0</td>\n",
       "      <td>0</td>\n",
       "      <td>0</td>\n",
       "      <td>0</td>\n",
       "      <td>0</td>\n",
       "    </tr>\n",
       "    <tr>\n",
       "      <th>4</th>\n",
       "      <td>5</td>\n",
       "      <td>0</td>\n",
       "      <td>1</td>\n",
       "      <td>35.0000000</td>\n",
       "      <td>8.0500000</td>\n",
       "      <td>0</td>\n",
       "      <td>24.0000000</td>\n",
       "      <td>0</td>\n",
       "      <td>105.0000000</td>\n",
       "      <td>1</td>\n",
       "      <td>0</td>\n",
       "      <td>1</td>\n",
       "      <td>0</td>\n",
       "      <td>0</td>\n",
       "      <td>0</td>\n",
       "      <td>0</td>\n",
       "      <td>0</td>\n",
       "      <td>0</td>\n",
       "      <td>0</td>\n",
       "      <td>0</td>\n",
       "      <td>0</td>\n",
       "      <td>0</td>\n",
       "      <td>0</td>\n",
       "      <td>0</td>\n",
       "      <td>0</td>\n",
       "      <td>1</td>\n",
       "      <td>1</td>\n",
       "      <td>0</td>\n",
       "      <td>0</td>\n",
       "      <td>0</td>\n",
       "      <td>0</td>\n",
       "      <td>0</td>\n",
       "      <td>0</td>\n",
       "      <td>0</td>\n",
       "      <td>1</td>\n",
       "      <td>0</td>\n",
       "      <td>0</td>\n",
       "      <td>0</td>\n",
       "      <td>0</td>\n",
       "      <td>0</td>\n",
       "      <td>0</td>\n",
       "      <td>0</td>\n",
       "      <td>0</td>\n",
       "      <td>0</td>\n",
       "      <td>0</td>\n",
       "      <td>0</td>\n",
       "      <td>0</td>\n",
       "      <td>1</td>\n",
       "      <td>0</td>\n",
       "      <td>0</td>\n",
       "    </tr>\n",
       "  </tbody>\n",
       "</table>\n",
       "</div>"
      ],
      "text/plain": [
       "   PASSENGERID  SURVIVED  SEX        AGE       FARE  NEW_CABIN_BOOL  NEW_NAME_COUNT  NEW_NAME_DR  NEW_AGE_PCLASS  NEW_IS_ALONE  PCLASS_2  PCLASS_3  SIBSP_1  SIBSP_2  SIBSP_3  SIBSP_4  SIBSP_5  SIBSP_8  PARCH_1  PARCH_2  PARCH_3  PARCH_4  PARCH_5  PARCH_6  EMBARKED_Q  EMBARKED_S  NEW_NAME_WORD_COUNT_4  NEW_NAME_WORD_COUNT_5  NEW_NAME_WORD_COUNT_6  NEW_NAME_WORD_COUNT_7  NEW_NAME_WORD_COUNT_8  NEW_NAME_WORD_COUNT_9  NEW_NAME_WORD_COUNT_14  NEW_TITLE_Miss  NEW_TITLE_Mr  NEW_TITLE_Mrs  \\\n",
       "0            1         0    1 22.0000000  7.2500000               0      23.0000000            0      66.0000000             0         0         1        1        0        0        0        0        0        0        0        0        0        0        0           0           1                      1                      0                      0                      0                      0                      0                       0               0             1              0   \n",
       "1            2         1    0 38.0000000 65.6344000               1      45.0000000            0      38.0000000             0         0         0        1        0        0        0        0        0        0        0        0        0        0        0           0           0                      0                      0                      0                      1                      0                      0                       0               0             0              1   \n",
       "2            3         1    0 26.0000000  7.9250000               0      22.0000000            0      78.0000000             1         0         1        0        0        0        0        0        0        0        0        0        0        0        0           0           1                      0                      0                      0                      0                      0                      0                       0               1             0              0   \n",
       "3            4         1    0 35.0000000 53.1000000               1      44.0000000            0      35.0000000             0         0         0        1        0        0        0        0        0        0        0        0        0        0        0           0           1                      0                      0                      0                      1                      0                      0                       0               0             0              1   \n",
       "4            5         0    1 35.0000000  8.0500000               0      24.0000000            0     105.0000000             1         0         1        0        0        0        0        0        0        0        0        0        0        0        0           0           1                      1                      0                      0                      0                      0                      0                       0               0             1              0   \n",
       "\n",
       "   NEW_TITLE_Rare  NEW_FAMILY_SIZE_2  NEW_FAMILY_SIZE_3  NEW_FAMILY_SIZE_4  NEW_FAMILY_SIZE_5  NEW_FAMILY_SIZE_6  NEW_FAMILY_SIZE_7  NEW_FAMILY_SIZE_8  NEW_FAMILY_SIZE_11  NEW_AGE_CAT_senior  NEW_AGE_CAT_young  NEW_SEX_CAT_maturemale  NEW_SEX_CAT_seniorfemale  NEW_SEX_CAT_seniormale  \n",
       "0               0                  1                  0                  0                  0                  0                  0                  0                   0                   0                  0                       1                         0                       0  \n",
       "1               0                  1                  0                  0                  0                  0                  0                  0                   0                   0                  0                       0                         0                       0  \n",
       "2               0                  0                  0                  0                  0                  0                  0                  0                   0                   0                  0                       0                         0                       0  \n",
       "3               0                  1                  0                  0                  0                  0                  0                  0                   0                   0                  0                       0                         0                       0  \n",
       "4               0                  0                  0                  0                  0                  0                  0                  0                   0                   0                  0                       1                         0                       0  "
      ]
     },
     "execution_count": 49,
     "metadata": {},
     "output_type": "execute_result"
    }
   ],
   "source": [
    "df.head()"
   ]
  },
  {
   "cell_type": "code",
   "execution_count": 50,
   "id": "06dd2f32",
   "metadata": {},
   "outputs": [
    {
     "data": {
      "text/plain": [
       "(891, 50)"
      ]
     },
     "execution_count": 50,
     "metadata": {},
     "output_type": "execute_result"
    }
   ],
   "source": [
    "df.shape"
   ]
  },
  {
   "cell_type": "code",
   "execution_count": 51,
   "id": "39311373",
   "metadata": {},
   "outputs": [
    {
     "name": "stdout",
     "output_type": "stream",
     "text": [
      "Observations: 891\n",
      "Variables: 50\n",
      "cat_cols: 45\n",
      "num_cols: 5\n",
      "cat_but_car: 0\n",
      "num_but_cat: 45\n"
     ]
    }
   ],
   "source": [
    "cat_cols, num_cols, cat_but_car = grab_col_names(df)"
   ]
  },
  {
   "cell_type": "code",
   "execution_count": 52,
   "id": "c330613d",
   "metadata": {},
   "outputs": [],
   "source": [
    "num_cols = [col for col in num_cols if \"PASSENGERID\" not in col]"
   ]
  },
  {
   "cell_type": "code",
   "execution_count": 53,
   "id": "511999ce",
   "metadata": {},
   "outputs": [],
   "source": [
    "# OHE'dan geçirdiğimiz yeni değişkenlerin hepsinin gerekli olup olmadığını bilmiyoruz\n",
    "# bunu sorgulamak için RARE ANALYSER i tekrar inceleyelim"
   ]
  },
  {
   "cell_type": "code",
   "execution_count": 54,
   "id": "000e419e",
   "metadata": {},
   "outputs": [
    {
     "name": "stdout",
     "output_type": "stream",
     "text": [
      "SURVIVED : 2\n",
      "   COUNT     RATIO  TARGET_MEAN\n",
      "0    549 0.6161616            0\n",
      "1    342 0.3838384            1\n",
      "\n",
      "\n",
      "SEX : 2\n",
      "   COUNT     RATIO  TARGET_MEAN\n",
      "0    314 0.3524130    0.7420382\n",
      "1    577 0.6475870    0.1889081\n",
      "\n",
      "\n",
      "NEW_CABIN_BOOL : 2\n",
      "   COUNT     RATIO  TARGET_MEAN\n",
      "0    687 0.7710438    0.2998544\n",
      "1    204 0.2289562    0.6666667\n",
      "\n",
      "\n",
      "NEW_NAME_DR : 2\n",
      "   COUNT     RATIO  TARGET_MEAN\n",
      "0    881 0.9887767    0.3825199\n",
      "1     10 0.0112233    0.5000000\n",
      "\n",
      "\n",
      "NEW_IS_ALONE : 2\n",
      "   COUNT     RATIO  TARGET_MEAN\n",
      "0    354 0.3973064    0.5056497\n",
      "1    537 0.6026936    0.3035382\n",
      "\n",
      "\n",
      "PCLASS_2 : 2\n",
      "   COUNT     RATIO  TARGET_MEAN\n",
      "0    707 0.7934905    0.3606789\n",
      "1    184 0.2065095    0.4728261\n",
      "\n",
      "\n",
      "PCLASS_3 : 2\n",
      "   COUNT     RATIO  TARGET_MEAN\n",
      "0    400 0.4489338    0.5575000\n",
      "1    491 0.5510662    0.2423625\n",
      "\n",
      "\n",
      "SIBSP_1 : 2\n",
      "   COUNT     RATIO  TARGET_MEAN\n",
      "0    682 0.7654321    0.3372434\n",
      "1    209 0.2345679    0.5358852\n",
      "\n",
      "\n",
      "SIBSP_2 : 2\n",
      "   COUNT     RATIO  TARGET_MEAN\n",
      "0    863 0.9685746    0.3812283\n",
      "1     28 0.0314254    0.4642857\n",
      "\n",
      "\n",
      "SIBSP_3 : 2\n",
      "   COUNT     RATIO  TARGET_MEAN\n",
      "0    875 0.9820426    0.3862857\n",
      "1     16 0.0179574    0.2500000\n",
      "\n",
      "\n",
      "SIBSP_4 : 2\n",
      "   COUNT     RATIO  TARGET_MEAN\n",
      "0    873 0.9797980    0.3883162\n",
      "1     18 0.0202020    0.1666667\n",
      "\n",
      "\n",
      "SIBSP_5 : 2\n",
      "   COUNT     RATIO  TARGET_MEAN\n",
      "0    886 0.9943883    0.3860045\n",
      "1      5 0.0056117    0.0000000\n",
      "\n",
      "\n",
      "SIBSP_8 : 2\n",
      "   COUNT     RATIO  TARGET_MEAN\n",
      "0    884 0.9921437    0.3868778\n",
      "1      7 0.0078563    0.0000000\n",
      "\n",
      "\n",
      "PARCH_1 : 2\n",
      "   COUNT     RATIO  TARGET_MEAN\n",
      "0    773 0.8675645    0.3583441\n",
      "1    118 0.1324355    0.5508475\n",
      "\n",
      "\n",
      "PARCH_2 : 2\n",
      "   COUNT     RATIO  TARGET_MEAN\n",
      "0    811 0.9102132    0.3723798\n",
      "1     80 0.0897868    0.5000000\n",
      "\n",
      "\n",
      "PARCH_3 : 2\n",
      "   COUNT     RATIO  TARGET_MEAN\n",
      "0    886 0.9943883    0.3826185\n",
      "1      5 0.0056117    0.6000000\n",
      "\n",
      "\n",
      "PARCH_4 : 2\n",
      "   COUNT     RATIO  TARGET_MEAN\n",
      "0    887 0.9955107    0.3855693\n",
      "1      4 0.0044893    0.0000000\n",
      "\n",
      "\n",
      "PARCH_5 : 2\n",
      "   COUNT     RATIO  TARGET_MEAN\n",
      "0    886 0.9943883    0.3848758\n",
      "1      5 0.0056117    0.2000000\n",
      "\n",
      "\n",
      "PARCH_6 : 2\n",
      "   COUNT     RATIO  TARGET_MEAN\n",
      "0    890 0.9988777    0.3842697\n",
      "1      1 0.0011223    0.0000000\n",
      "\n",
      "\n",
      "EMBARKED_Q : 2\n",
      "   COUNT     RATIO  TARGET_MEAN\n",
      "0    814 0.9135802    0.3832924\n",
      "1     77 0.0864198    0.3896104\n",
      "\n",
      "\n",
      "EMBARKED_S : 2\n",
      "   COUNT     RATIO  TARGET_MEAN\n",
      "0    245 0.2749719    0.5020408\n",
      "1    646 0.7250281    0.3390093\n",
      "\n",
      "\n",
      "NEW_NAME_WORD_COUNT_4 : 2\n",
      "   COUNT     RATIO  TARGET_MEAN\n",
      "0    503 0.5645342    0.4174950\n",
      "1    388 0.4354658    0.3402062\n",
      "\n",
      "\n",
      "NEW_NAME_WORD_COUNT_5 : 2\n",
      "   COUNT     RATIO  TARGET_MEAN\n",
      "0    795 0.8922559    0.3786164\n",
      "1     96 0.1077441    0.4270833\n",
      "\n",
      "\n",
      "NEW_NAME_WORD_COUNT_6 : 2\n",
      "   COUNT     RATIO  TARGET_MEAN\n",
      "0    838 0.9405163    0.3591885\n",
      "1     53 0.0594837    0.7735849\n",
      "\n",
      "\n",
      "NEW_NAME_WORD_COUNT_7 : 2\n",
      "   COUNT     RATIO  TARGET_MEAN\n",
      "0    853 0.9573513    0.3634232\n",
      "1     38 0.0426487    0.8421053\n",
      "\n",
      "\n",
      "NEW_NAME_WORD_COUNT_8 : 2\n",
      "   COUNT     RATIO  TARGET_MEAN\n",
      "0    882 0.9898990    0.3820862\n",
      "1      9 0.0101010    0.5555556\n",
      "\n",
      "\n",
      "NEW_NAME_WORD_COUNT_9 : 2\n",
      "   COUNT     RATIO  TARGET_MEAN\n",
      "0    890 0.9988777    0.3831461\n",
      "1      1 0.0011223    1.0000000\n",
      "\n",
      "\n",
      "NEW_NAME_WORD_COUNT_14 : 2\n",
      "   COUNT     RATIO  TARGET_MEAN\n",
      "0    890 0.9988777    0.3831461\n",
      "1      1 0.0011223    1.0000000\n",
      "\n",
      "\n",
      "NEW_TITLE_Miss : 2\n",
      "   COUNT     RATIO  TARGET_MEAN\n",
      "0    709 0.7957351    0.3032440\n",
      "1    182 0.2042649    0.6978022\n",
      "\n",
      "\n",
      "NEW_TITLE_Mr : 2\n",
      "   COUNT     RATIO  TARGET_MEAN\n",
      "0    374 0.4197531    0.6978610\n",
      "1    517 0.5802469    0.1566731\n",
      "\n",
      "\n",
      "NEW_TITLE_Mrs : 2\n",
      "   COUNT     RATIO  TARGET_MEAN\n",
      "0    766 0.8597082    0.3172324\n",
      "1    125 0.1402918    0.7920000\n",
      "\n",
      "\n",
      "NEW_TITLE_Rare : 2\n",
      "   COUNT     RATIO  TARGET_MEAN\n",
      "0    864 0.9696970    0.3819444\n",
      "1     27 0.0303030    0.4444444\n",
      "\n",
      "\n",
      "NEW_FAMILY_SIZE_2 : 2\n",
      "   COUNT     RATIO  TARGET_MEAN\n",
      "0    730 0.8193042    0.3465753\n",
      "1    161 0.1806958    0.5527950\n",
      "\n",
      "\n",
      "NEW_FAMILY_SIZE_3 : 2\n",
      "   COUNT     RATIO  TARGET_MEAN\n",
      "0    789 0.8855219    0.3586819\n",
      "1    102 0.1144781    0.5784314\n",
      "\n",
      "\n",
      "NEW_FAMILY_SIZE_4 : 2\n",
      "   COUNT     RATIO  TARGET_MEAN\n",
      "0    862 0.9674523    0.3723898\n",
      "1     29 0.0325477    0.7241379\n",
      "\n",
      "\n",
      "NEW_FAMILY_SIZE_5 : 2\n",
      "   COUNT     RATIO  TARGET_MEAN\n",
      "0    876 0.9831650    0.3869863\n",
      "1     15 0.0168350    0.2000000\n",
      "\n",
      "\n",
      "NEW_FAMILY_SIZE_6 : 2\n",
      "   COUNT     RATIO  TARGET_MEAN\n",
      "0    869 0.9753086    0.3901036\n",
      "1     22 0.0246914    0.1363636\n",
      "\n",
      "\n",
      "NEW_FAMILY_SIZE_7 : 2\n",
      "   COUNT     RATIO  TARGET_MEAN\n",
      "0    879 0.9865320    0.3845279\n",
      "1     12 0.0134680    0.3333333\n",
      "\n",
      "\n",
      "NEW_FAMILY_SIZE_8 : 2\n",
      "   COUNT     RATIO  TARGET_MEAN\n",
      "0    885 0.9932660    0.3864407\n",
      "1      6 0.0067340    0.0000000\n",
      "\n",
      "\n",
      "NEW_FAMILY_SIZE_11 : 2\n",
      "   COUNT     RATIO  TARGET_MEAN\n",
      "0    884 0.9921437    0.3868778\n",
      "1      7 0.0078563    0.0000000\n",
      "\n",
      "\n",
      "NEW_AGE_CAT_senior : 2\n",
      "   COUNT     RATIO  TARGET_MEAN\n",
      "0    852 0.9562290    0.3873239\n",
      "1     39 0.0437710    0.3076923\n",
      "\n",
      "\n",
      "NEW_AGE_CAT_young : 2\n",
      "   COUNT     RATIO  TARGET_MEAN\n",
      "0    774 0.8686869    0.3604651\n",
      "1    117 0.1313131    0.5384615\n",
      "\n",
      "\n",
      "NEW_SEX_CAT_maturemale : 2\n",
      "   COUNT     RATIO  TARGET_MEAN\n",
      "0    361 0.4051627    0.6620499\n",
      "1    530 0.5948373    0.1943396\n",
      "\n",
      "\n",
      "NEW_SEX_CAT_seniorfemale : 2\n",
      "   COUNT     RATIO  TARGET_MEAN\n",
      "0    874 0.9809203    0.3729977\n",
      "1     17 0.0190797    0.9411765\n",
      "\n",
      "\n",
      "NEW_SEX_CAT_seniormale : 2\n",
      "   COUNT     RATIO  TARGET_MEAN\n",
      "0    844 0.9472503    0.3981043\n",
      "1     47 0.0527497    0.1276596\n",
      "\n",
      "\n"
     ]
    }
   ],
   "source": [
    "rare_analyser(df, \"SURVIVED\", cat_cols)"
   ]
  },
  {
   "cell_type": "code",
   "execution_count": 55,
   "id": "81ab508e",
   "metadata": {},
   "outputs": [],
   "source": [
    "useless_cols = [col for col in df.columns if df[col].nunique() == 2 and\n",
    "                (df[col].value_counts() / len(df) < 0.01).any(axis=None)]"
   ]
  },
  {
   "cell_type": "code",
   "execution_count": 56,
   "id": "87e90a0e",
   "metadata": {},
   "outputs": [
    {
     "data": {
      "text/plain": [
       "['SIBSP_5',\n",
       " 'SIBSP_8',\n",
       " 'PARCH_3',\n",
       " 'PARCH_4',\n",
       " 'PARCH_5',\n",
       " 'PARCH_6',\n",
       " 'NEW_NAME_WORD_COUNT_9',\n",
       " 'NEW_NAME_WORD_COUNT_14',\n",
       " 'NEW_FAMILY_SIZE_8',\n",
       " 'NEW_FAMILY_SIZE_11']"
      ]
     },
     "execution_count": 56,
     "metadata": {},
     "output_type": "execute_result"
    }
   ],
   "source": [
    "useless_cols #bunları siledebiliriz."
   ]
  },
  {
   "cell_type": "code",
   "execution_count": 57,
   "id": "77250140",
   "metadata": {},
   "outputs": [],
   "source": [
    "# df.drop(useless_cols, axis=1, inplace=True)"
   ]
  },
  {
   "cell_type": "markdown",
   "id": "4364a1ec",
   "metadata": {},
   "source": [
    "\n",
    "# 7. Standart Scaler\n"
   ]
  },
  {
   "cell_type": "code",
   "execution_count": 58,
   "id": "20d2ebd7",
   "metadata": {},
   "outputs": [
    {
     "data": {
      "text/html": [
       "<div>\n",
       "<style scoped>\n",
       "    .dataframe tbody tr th:only-of-type {\n",
       "        vertical-align: middle;\n",
       "    }\n",
       "\n",
       "    .dataframe tbody tr th {\n",
       "        vertical-align: top;\n",
       "    }\n",
       "\n",
       "    .dataframe thead th {\n",
       "        text-align: right;\n",
       "    }\n",
       "</style>\n",
       "<table border=\"1\" class=\"dataframe\">\n",
       "  <thead>\n",
       "    <tr style=\"text-align: right;\">\n",
       "      <th></th>\n",
       "      <th>AGE</th>\n",
       "      <th>FARE</th>\n",
       "      <th>NEW_NAME_COUNT</th>\n",
       "      <th>NEW_AGE_PCLASS</th>\n",
       "    </tr>\n",
       "  </thead>\n",
       "  <tbody>\n",
       "    <tr>\n",
       "      <th>0</th>\n",
       "      <td>-0.5606383</td>\n",
       "      <td>-0.8205524</td>\n",
       "      <td>-0.4366754</td>\n",
       "      <td>0.0664885</td>\n",
       "    </tr>\n",
       "    <tr>\n",
       "      <th>1</th>\n",
       "      <td>0.6633017</td>\n",
       "      <td>2.0316232</td>\n",
       "      <td>2.2483028</td>\n",
       "      <td>-0.7904288</td>\n",
       "    </tr>\n",
       "    <tr>\n",
       "      <th>2</th>\n",
       "      <td>-0.2546533</td>\n",
       "      <td>-0.7875776</td>\n",
       "      <td>-0.5587198</td>\n",
       "      <td>0.4337387</td>\n",
       "    </tr>\n",
       "    <tr>\n",
       "      <th>3</th>\n",
       "      <td>0.4338129</td>\n",
       "      <td>1.4192968</td>\n",
       "      <td>2.1262584</td>\n",
       "      <td>-0.8822414</td>\n",
       "    </tr>\n",
       "    <tr>\n",
       "      <th>4</th>\n",
       "      <td>0.4338129</td>\n",
       "      <td>-0.7814711</td>\n",
       "      <td>-0.3146309</td>\n",
       "      <td>1.2600518</td>\n",
       "    </tr>\n",
       "  </tbody>\n",
       "</table>\n",
       "</div>"
      ],
      "text/plain": [
       "         AGE       FARE  NEW_NAME_COUNT  NEW_AGE_PCLASS\n",
       "0 -0.5606383 -0.8205524      -0.4366754       0.0664885\n",
       "1  0.6633017  2.0316232       2.2483028      -0.7904288\n",
       "2 -0.2546533 -0.7875776      -0.5587198       0.4337387\n",
       "3  0.4338129  1.4192968       2.1262584      -0.8822414\n",
       "4  0.4338129 -0.7814711      -0.3146309       1.2600518"
      ]
     },
     "execution_count": 58,
     "metadata": {},
     "output_type": "execute_result"
    }
   ],
   "source": [
    "scaler = StandardScaler()\n",
    "df[num_cols] = scaler.fit_transform(df[num_cols])\n",
    "df[num_cols].head()"
   ]
  },
  {
   "cell_type": "markdown",
   "id": "670cce18",
   "metadata": {},
   "source": [
    "\n",
    "# 8. Model\n"
   ]
  },
  {
   "cell_type": "code",
   "execution_count": 59,
   "id": "50247360",
   "metadata": {},
   "outputs": [],
   "source": [
    "# bağımlı değişken Survived\n",
    "y = df[\"SURVIVED\"]"
   ]
  },
  {
   "cell_type": "code",
   "execution_count": 60,
   "id": "870e8cd0",
   "metadata": {},
   "outputs": [],
   "source": [
    "# bağımsız değişkenler PASSENGERID VE SURVIVED dışındaki değişkenler\n",
    "X = df.drop([\"PASSENGERID\", \"SURVIVED\"], axis=1)"
   ]
  },
  {
   "cell_type": "code",
   "execution_count": 61,
   "id": "7029f724",
   "metadata": {},
   "outputs": [],
   "source": [
    "X_train, X_test, y_train, y_test = train_test_split(X, y, test_size=0.30, random_state=17)"
   ]
  },
  {
   "cell_type": "code",
   "execution_count": 62,
   "id": "eed9b697",
   "metadata": {},
   "outputs": [],
   "source": [
    "from sklearn.ensemble import RandomForestClassifier"
   ]
  },
  {
   "cell_type": "code",
   "execution_count": 63,
   "id": "a0ba0347",
   "metadata": {},
   "outputs": [],
   "source": [
    "rf_model = RandomForestClassifier(random_state=46).fit(X_train, y_train)"
   ]
  },
  {
   "cell_type": "code",
   "execution_count": 64,
   "id": "4c13ca7d",
   "metadata": {},
   "outputs": [],
   "source": [
    "y_pred = rf_model.predict(X_test)"
   ]
  },
  {
   "cell_type": "code",
   "execution_count": 65,
   "id": "b7cb646d",
   "metadata": {},
   "outputs": [
    {
     "data": {
      "text/plain": [
       "0.8059701492537313"
      ]
     },
     "execution_count": 65,
     "metadata": {},
     "output_type": "execute_result"
    }
   ],
   "source": [
    "accuracy_score(y_pred, y_test)"
   ]
  },
  {
   "cell_type": "code",
   "execution_count": 69,
   "id": "b45f7ecd",
   "metadata": {},
   "outputs": [],
   "source": [
    "# Yeni ürettiğimiz anlamlı mı anlamsız mı?\n",
    "def plot_importance(model, features, num=len(X), save=False):\n",
    "    feature_imp = pd.DataFrame({'Value': model.feature_importances_, 'Feature': features.columns})\n",
    "    plt.figure(figsize=(10, 10))\n",
    "    sns.set(font_scale=1)\n",
    "    sns.barplot(x=\"Value\", y=\"Feature\", data=feature_imp.sort_values(by=\"Value\",\n",
    "                                                                      ascending=False)[0:num])\n",
    "    plt.title('Features')\n",
    "    plt.tight_layout()\n",
    "    plt.show()\n",
    "    if save:\n",
    "        plt.savefig('importances.png')"
   ]
  },
  {
   "cell_type": "code",
   "execution_count": 70,
   "id": "3e73076c",
   "metadata": {},
   "outputs": [
    {
     "data": {
      "image/png": "[encoded data removed]",
      "text/plain": [
       "<Figure size 720x720 with 1 Axes>"
      ]
     },
     "metadata": {},
     "output_type": "display_data"
    }
   ],
   "source": [
    "plot_importance(rf_model, X_train)"
   ]
  },
  {
   "cell_type": "code",
   "execution_count": 71,
   "id": "4e2010bd",
   "metadata": {},
   "outputs": [],
   "source": [
    "###################################################\n",
    "# Yukarıdaki işlemleri yapmasaydık sonuç ne olurdu?\n",
    "###################################################"
   ]
  },
  {
   "cell_type": "markdown",
   "id": "670713ff",
   "metadata": {},
   "source": [
    "sadece en gerekli işlemleri yapalım."
   ]
  },
  {
   "cell_type": "code",
   "execution_count": 73,
   "id": "db5bff80",
   "metadata": {},
   "outputs": [],
   "source": [
    "dff = load()"
   ]
  },
  {
   "cell_type": "code",
   "execution_count": 74,
   "id": "ce43c49a",
   "metadata": {},
   "outputs": [],
   "source": [
    "# eksik verileri sildik.\n",
    "dff.dropna(inplace=True)"
   ]
  },
  {
   "cell_type": "code",
   "execution_count": 75,
   "id": "0e75b0ee",
   "metadata": {},
   "outputs": [],
   "source": [
    "# matematiksel forma çevirelim\n",
    "dff = pd.get_dummies(dff, columns=[\"Sex\", \"Embarked\"], drop_first=True)"
   ]
  },
  {
   "cell_type": "code",
   "execution_count": 76,
   "id": "26f98cd0",
   "metadata": {},
   "outputs": [],
   "source": [
    "# bağımlı ve bağımsız dğeişkenleri seçtik\n",
    "y = dff[\"Survived\"]\n",
    "X = dff.drop([\"PassengerId\", \"Survived\", \"Name\", \"Ticket\", \"Cabin\"], axis=1)"
   ]
  },
  {
   "cell_type": "code",
   "execution_count": 77,
   "id": "a1258b6c",
   "metadata": {},
   "outputs": [],
   "source": [
    "# modeli tekrar kuralım\n",
    "X_train, X_test, y_train, y_test = train_test_split(X, y, test_size=0.30, random_state=17)"
   ]
  },
  {
   "cell_type": "code",
   "execution_count": 78,
   "id": "673423e6",
   "metadata": {},
   "outputs": [],
   "source": [
    "rf_model = RandomForestClassifier(random_state=46).fit(X_train, y_train)\n",
    "y_pred = rf_model.predict(X_test)"
   ]
  },
  {
   "cell_type": "code",
   "execution_count": 79,
   "id": "4d49643e",
   "metadata": {},
   "outputs": [
    {
     "data": {
      "text/plain": [
       "0.7090909090909091"
      ]
     },
     "execution_count": 79,
     "metadata": {},
     "output_type": "execute_result"
    }
   ],
   "source": [
    "accuracy_score(y_pred, y_test)"
   ]
  },
  {
   "cell_type": "markdown",
   "id": "02fd05a9",
   "metadata": {},
   "source": [
    "Feature Engineering & Data Preprocessing işlemlerini yaparak 0.70 accuracy yerine 0.80 sonucuna ulaştık."
   ]
  }
 ],
 "metadata": {
  "kernelspec": {
   "display_name": "Python 3",
   "language": "python",
   "name": "python3"
  },
  "language_info": {
   "codemirror_mode": {
    "name": "ipython",
    "version": 3
   },
   "file_extension": ".py",
   "mimetype": "text/x-python",
   "name": "python",
   "nbconvert_exporter": "python",
   "pygments_lexer": "ipython3",
   "version": "3.8.8"
  }
 },
 "nbformat": 4,
 "nbformat_minor": 5
}
